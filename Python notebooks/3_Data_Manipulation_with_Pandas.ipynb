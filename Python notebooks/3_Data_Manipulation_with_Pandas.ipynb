{
 "cells": [
  {
   "cell_type": "markdown",
   "id": "17e5e2e2",
   "metadata": {},
   "source": [
    "**Pandas**\n",
    "- built on top of **NumPy**\n",
    "- provides an efficient implementation of a **DataFrame:**\n",
    "   - essentially multidimensional arrays with labeled row and column\n",
    "   - often with heterogeneous types \n",
    "   - and/or with missing data.\n",
    "- convenient storage interface for labeled data\n",
    "- implements a number of powerful data operations familiar to users of \n",
    "    - database frameworks \n",
    "    - spreadsheet programs\n",
    ">NumPy’s ndarray data structure provides essential features for the type of clean, well-organized data typically seen in numerical computing tasks. \\\n",
    "        *While it serves this purpose very well,* its limitations become clear when we need more flexibility **(attaching labels to data, working with missing data, etc.)**"
   ]
  },
  {
   "cell_type": "code",
   "execution_count": null,
   "id": "3009537b",
   "metadata": {},
   "outputs": [],
   "source": []
  }
 ],
 "metadata": {
  "kernelspec": {
   "display_name": "Python 3 (ipykernel)",
   "language": "python",
   "name": "python3"
  },
  "language_info": {
   "codemirror_mode": {
    "name": "ipython",
    "version": 3
   },
   "file_extension": ".py",
   "mimetype": "text/x-python",
   "name": "python",
   "nbconvert_exporter": "python",
   "pygments_lexer": "ipython3",
   "version": "3.10.5"
  },
  "toc": {
   "base_numbering": 1,
   "nav_menu": {},
   "number_sections": true,
   "sideBar": true,
   "skip_h1_title": false,
   "title_cell": "Table of Contents",
   "title_sidebar": "Contents",
   "toc_cell": false,
   "toc_position": {},
   "toc_section_display": true,
   "toc_window_display": false
  }
 },
 "nbformat": 4,
 "nbformat_minor": 5
}
